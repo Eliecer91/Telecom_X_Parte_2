{
  "nbformat": 4,
  "nbformat_minor": 0,
  "metadata": {
    "colab": {
      "provenance": [],
      "include_colab_link": true
    },
    "kernelspec": {
      "name": "python3",
      "display_name": "Python 3"
    },
    "language_info": {
      "name": "python"
    }
  },
  "cells": [
    {
      "cell_type": "markdown",
      "metadata": {
        "id": "view-in-github",
        "colab_type": "text"
      },
      "source": [
        "<a href=\"https://colab.research.google.com/github/Eliecer91/Telecom_X_Parte_2/blob/main/Challenge_Telecom_X_Parte_2.ipynb\" target=\"_parent\"><img src=\"https://colab.research.google.com/assets/colab-badge.svg\" alt=\"Open In Colab\"/></a>"
      ]
    },
    {
      "cell_type": "markdown",
      "source": [
        "# **Telecom X - Análisis de Evasión de Clientes**\n",
        "\n",
        "Has sido contratado como asistente de análisis de datos en Telecom X y formarás parte del proyecto \"Churn de Clientes\". La empresa enfrenta una alta tasa de cancelaciones y necesita comprender los factores que llevan a la pérdida de clientes.\n",
        "\n",
        "Tu desafío será recopilar, procesar y analizar los datos, utilizando Python y sus principales bibliotecas para extraer información valiosa. A partir de tu análisis, el equipo de Data Science podrá avanzar en modelos predictivos y desarrollar estrategias para reducir la evasión."
      ],
      "metadata": {
        "id": "fYCKg9bUc4z-"
      }
    },
    {
      "cell_type": "markdown",
      "source": [
        "## **📌 Extracción(E - Extract)**"
      ],
      "metadata": {
        "id": "5zY5_HiIdRVf"
      }
    },
    {
      "cell_type": "code",
      "source": [
        "import pandas as pd\n",
        "import numpy as np\n",
        "import matplotlib.pyplot as plt\n",
        "import seaborn as sns\n",
        "import plotly.express as px\n",
        "import plotly.graph_objects as go\n",
        "import plotly.io as pio\n",
        "!pip install -U kaleido"
      ],
      "metadata": {
        "id": "vpV0wFb3dQp6",
        "colab": {
          "base_uri": "https://localhost:8080/"
        },
        "outputId": "5bfd4961-8cd6-48d6-e906-b40694192e5d"
      },
      "execution_count": 1,
      "outputs": [
        {
          "output_type": "stream",
          "name": "stdout",
          "text": [
            "Requirement already satisfied: kaleido in /usr/local/lib/python3.11/dist-packages (1.0.0)\n",
            "Requirement already satisfied: choreographer>=1.0.5 in /usr/local/lib/python3.11/dist-packages (from kaleido) (1.0.9)\n",
            "Requirement already satisfied: logistro>=1.0.8 in /usr/local/lib/python3.11/dist-packages (from kaleido) (1.1.0)\n",
            "Requirement already satisfied: orjson>=3.10.15 in /usr/local/lib/python3.11/dist-packages (from kaleido) (3.11.2)\n",
            "Requirement already satisfied: packaging in /usr/local/lib/python3.11/dist-packages (from kaleido) (25.0)\n",
            "Requirement already satisfied: simplejson>=3.19.3 in /usr/local/lib/python3.11/dist-packages (from choreographer>=1.0.5->kaleido) (3.20.1)\n"
          ]
        }
      ]
    },
    {
      "cell_type": "code",
      "execution_count": 3,
      "metadata": {
        "id": "CTUVhN86NN3D",
        "collapsed": true
      },
      "outputs": [],
      "source": [
        "df = pd.read_json('https://raw.githubusercontent.com/Eliecer91/Telecom_X_Parte_2/main/TelecomX_Data.json')\n",
        "cliente=pd.json_normalize(df['customer'])\n",
        "phone=pd.json_normalize(df['phone'])\n",
        "internet=pd.json_normalize(df['internet'])\n",
        "account=pd.json_normalize(df['account'])\n",
        "datosIniciales=pd.concat([df['customerID'],df['Churn']],axis=1)"
      ]
    },
    {
      "cell_type": "markdown",
      "source": [
        "## **🔧 Transformación (T - Transform)**"
      ],
      "metadata": {
        "id": "WfhLqxjfqbRr"
      }
    },
    {
      "cell_type": "markdown",
      "source": [
        "### Transformación de clientes"
      ],
      "metadata": {
        "id": "ssZCnqYjtzkY"
      }
    },
    {
      "cell_type": "code",
      "source": [
        "cliente.info()"
      ],
      "metadata": {
        "id": "R4_2P8XKi-Th"
      },
      "execution_count": null,
      "outputs": []
    },
    {
      "cell_type": "code",
      "source": [
        "cliente.head()"
      ],
      "metadata": {
        "id": "L8yu-DMZjYTp"
      },
      "execution_count": null,
      "outputs": []
    },
    {
      "cell_type": "code",
      "source": [
        "cliente['Partner'] = cliente['Partner'].map({'Yes': 1, 'No': 0})\n",
        "cliente['Dependents'] = cliente['Dependents'].map({'Yes': 1, 'No': 0})"
      ],
      "metadata": {
        "id": "SaE59FU6tIsZ"
      },
      "execution_count": null,
      "outputs": []
    },
    {
      "cell_type": "code",
      "source": [
        "cliente.head()"
      ],
      "metadata": {
        "id": "TCXJ2_NGunGE"
      },
      "execution_count": null,
      "outputs": []
    },
    {
      "cell_type": "markdown",
      "source": [
        "### Transformación de phone"
      ],
      "metadata": {
        "id": "pdvASVPCt33i"
      }
    },
    {
      "cell_type": "code",
      "source": [
        "phone.info()"
      ],
      "metadata": {
        "id": "wajiXkeGjclo"
      },
      "execution_count": null,
      "outputs": []
    },
    {
      "cell_type": "code",
      "source": [
        "phone.head()"
      ],
      "metadata": {
        "id": "ISILtKV7jhdY"
      },
      "execution_count": null,
      "outputs": []
    },
    {
      "cell_type": "code",
      "source": [
        "phone['MultipleLines'].unique()"
      ],
      "metadata": {
        "id": "6hxeNfuovmB0"
      },
      "execution_count": null,
      "outputs": []
    },
    {
      "cell_type": "code",
      "source": [
        "columnas = ['PhoneService', 'MultipleLines']\n",
        "phone[columnas] = phone[columnas].apply(lambda x: x.map({'Yes': 1, 'No': 0, 'No phone service': 0}))"
      ],
      "metadata": {
        "id": "m_1_Ofjvt-ZB"
      },
      "execution_count": null,
      "outputs": []
    },
    {
      "cell_type": "code",
      "source": [
        "phone.head()"
      ],
      "metadata": {
        "id": "WAOGCNIqusIn"
      },
      "execution_count": null,
      "outputs": []
    },
    {
      "cell_type": "markdown",
      "source": [
        "### Transformación de internet"
      ],
      "metadata": {
        "id": "ozAiKSSXuH7G"
      }
    },
    {
      "cell_type": "code",
      "source": [
        "internet.info()"
      ],
      "metadata": {
        "id": "Y4hj-COQjjYB"
      },
      "execution_count": null,
      "outputs": []
    },
    {
      "cell_type": "code",
      "source": [
        "internet.head()"
      ],
      "metadata": {
        "id": "wpmc1oEWjmpI"
      },
      "execution_count": null,
      "outputs": []
    },
    {
      "cell_type": "code",
      "source": [
        "#internet['OnlineSecurity'].unique()\n",
        "#internet['OnlineBackup'].unique()\n",
        "#internet['DeviceProtection'].unique()\n",
        "#internet['TechSupport'].unique()\n",
        "#internet['StreamingTV'].unique()\n",
        "internet['StreamingMovies'].unique()"
      ],
      "metadata": {
        "id": "ciO5kQbkv3QD"
      },
      "execution_count": null,
      "outputs": []
    },
    {
      "cell_type": "code",
      "source": [
        "columnas = ['OnlineSecurity', 'OnlineBackup', 'DeviceProtection', 'TechSupport', 'StreamingTV', 'StreamingMovies']\n",
        "internet[columnas] = internet[columnas].apply(lambda x: x.map({'Yes': 1, 'No': 0, 'No internet service': 0}))"
      ],
      "metadata": {
        "id": "SQdy7r8SuLgP"
      },
      "execution_count": null,
      "outputs": []
    },
    {
      "cell_type": "code",
      "source": [
        "internet.info()"
      ],
      "metadata": {
        "id": "3HJYJ6zcuYJm"
      },
      "execution_count": null,
      "outputs": []
    },
    {
      "cell_type": "code",
      "source": [
        "internet.head()"
      ],
      "metadata": {
        "id": "lno9lMIUwxmC"
      },
      "execution_count": null,
      "outputs": []
    },
    {
      "cell_type": "markdown",
      "source": [
        "### Transformación cuenta"
      ],
      "metadata": {
        "id": "qJ7HRI2uxrFX"
      }
    },
    {
      "cell_type": "code",
      "source": [
        "account.info()"
      ],
      "metadata": {
        "id": "eY5SEsFejprZ"
      },
      "execution_count": null,
      "outputs": []
    },
    {
      "cell_type": "code",
      "source": [
        "account.head()"
      ],
      "metadata": {
        "id": "OqCEL60rjtzR"
      },
      "execution_count": null,
      "outputs": []
    },
    {
      "cell_type": "code",
      "source": [
        "cantidad_vacios = account['Charges.Total'].str.strip().eq('').sum()\n",
        "cantidad_vacios"
      ],
      "metadata": {
        "collapsed": true,
        "id": "J2rFoVzDlWo0"
      },
      "execution_count": null,
      "outputs": []
    },
    {
      "cell_type": "code",
      "source": [
        "cantidad_nan = account['Charges.Total'].isna().sum()\n",
        "cantidad_nan"
      ],
      "metadata": {
        "id": "GZ6oDbYJld--"
      },
      "execution_count": null,
      "outputs": []
    },
    {
      "cell_type": "code",
      "source": [
        "account['Charges.Total'] = pd.to_numeric(\n",
        "    account['Charges.Total'].str.replace(r'[\\$,]', '', regex=True),\n",
        "    errors='coerce'\n",
        ").fillna(0)"
      ],
      "metadata": {
        "id": "RKVxDhqFpMsb"
      },
      "execution_count": null,
      "outputs": []
    },
    {
      "cell_type": "code",
      "source": [
        "account['Charges.Total']"
      ],
      "metadata": {
        "id": "46hA_bmPnF7z"
      },
      "execution_count": null,
      "outputs": []
    },
    {
      "cell_type": "code",
      "source": [
        "account.info()"
      ],
      "metadata": {
        "id": "tJV6dMlgkQ5C"
      },
      "execution_count": null,
      "outputs": []
    },
    {
      "cell_type": "code",
      "source": [
        "pd.unique(account['Contract'])"
      ],
      "metadata": {
        "id": "Nq3sBIrdlp_4"
      },
      "execution_count": null,
      "outputs": []
    },
    {
      "cell_type": "code",
      "source": [
        "pd.unique(account['PaperlessBilling'])"
      ],
      "metadata": {
        "id": "6dt2Aok3rwqk"
      },
      "execution_count": null,
      "outputs": []
    },
    {
      "cell_type": "code",
      "source": [
        "account['PaperlessBilling'] = pd.to_numeric(\n",
        "    account['PaperlessBilling'].replace({'Yes': 1, 'No': 0}),\n",
        "    errors='coerce'\n",
        ").fillna(0).astype(int)"
      ],
      "metadata": {
        "id": "wo2LDFfI0dTV"
      },
      "execution_count": null,
      "outputs": []
    },
    {
      "cell_type": "code",
      "source": [
        "pd.unique(account['PaymentMethod'])"
      ],
      "metadata": {
        "id": "agQqihwRrznt"
      },
      "execution_count": null,
      "outputs": []
    },
    {
      "cell_type": "code",
      "source": [
        "account['Cuentas_Diarias'] = account['Charges.Monthly'] / 30.44\n",
        "account['Cuentas_Diarias'] = account['Cuentas_Diarias'].round(2)\n",
        "account"
      ],
      "metadata": {
        "id": "MHfSbmUBsFpd"
      },
      "execution_count": null,
      "outputs": []
    },
    {
      "cell_type": "markdown",
      "source": [
        "### Transformación datos iniciales"
      ],
      "metadata": {
        "id": "HIbhm7_KxzkC"
      }
    },
    {
      "cell_type": "code",
      "source": [
        "datosIniciales.info()"
      ],
      "metadata": {
        "id": "-w7TC4cmyAsH"
      },
      "execution_count": null,
      "outputs": []
    },
    {
      "cell_type": "code",
      "source": [
        "datosIniciales.head()"
      ],
      "metadata": {
        "id": "hX1reH4VyC2G"
      },
      "execution_count": null,
      "outputs": []
    },
    {
      "cell_type": "code",
      "source": [
        "cantidad_vacios = datosIniciales['Churn'].str.strip().eq('').sum()\n",
        "cantidad_vacios"
      ],
      "metadata": {
        "id": "OwpAtnSBy3A5"
      },
      "execution_count": null,
      "outputs": []
    },
    {
      "cell_type": "code",
      "source": [
        "pd.unique(datosIniciales['Churn'])"
      ],
      "metadata": {
        "id": "q2vXZPDZyFta"
      },
      "execution_count": null,
      "outputs": []
    },
    {
      "cell_type": "code",
      "source": [
        "datosIniciales['Churn'] = pd.to_numeric(\n",
        "    datosIniciales['Churn'].replace({'Yes': 1, 'No': 0}),\n",
        "    errors='coerce'\n",
        ").fillna(0).astype(int)"
      ],
      "metadata": {
        "id": "7DOhalGNysbS"
      },
      "execution_count": null,
      "outputs": []
    },
    {
      "cell_type": "code",
      "source": [
        "datosIniciales"
      ],
      "metadata": {
        "id": "aCQStSSaziHS"
      },
      "execution_count": null,
      "outputs": []
    },
    {
      "cell_type": "markdown",
      "source": [],
      "metadata": {
        "id": "XYqONMYw1GpX"
      }
    },
    {
      "cell_type": "markdown",
      "source": [
        "## **📊 Carga y análisis(L - Load & Analysis)**"
      ],
      "metadata": {
        "id": "XWlcM3oB1Jln"
      }
    },
    {
      "cell_type": "code",
      "source": [
        "df_final = pd.concat([datosIniciales,cliente,phone,internet,account], axis=1)"
      ],
      "metadata": {
        "id": "7cJRGRv61M6T"
      },
      "execution_count": null,
      "outputs": []
    },
    {
      "cell_type": "code",
      "source": [
        "df_final.describe()"
      ],
      "metadata": {
        "collapsed": true,
        "id": "o-CvxP6W1xE4"
      },
      "execution_count": null,
      "outputs": []
    },
    {
      "cell_type": "code",
      "source": [
        "df_final"
      ],
      "metadata": {
        "collapsed": true,
        "id": "ZOLdhWy98Eov"
      },
      "execution_count": null,
      "outputs": []
    },
    {
      "cell_type": "code",
      "source": [
        "df_final.to_csv('df_final.csv', index=False)"
      ],
      "metadata": {
        "id": "Q7zjItRTm289"
      },
      "execution_count": null,
      "outputs": []
    },
    {
      "cell_type": "code",
      "source": [
        "churn_counts = df_final['Churn'].value_counts()"
      ],
      "metadata": {
        "id": "TqcvWVp_9jeU"
      },
      "execution_count": null,
      "outputs": []
    },
    {
      "cell_type": "code",
      "source": [
        "sns.set(style=\"whitegrid\")\n",
        "\n",
        "plt.figure(figsize=(8, 5))\n",
        "sns.barplot(x=churn_counts.index,y=churn_counts.values,hue=churn_counts.index,palette=[\"skyblue\", \"salmon\"],legend=False)\n",
        "\n",
        "plt.title('Distribución de Churn (Abandono de Clientes)', fontsize=14)\n",
        "plt.ylabel('Número de Clientes', fontsize=12)\n",
        "plt.xticks([0, 1], ['Permanecieron (0)', 'Abandonaron (1)'])\n",
        "\n",
        "for i, count in enumerate(churn_counts.values):\n",
        "    plt.text(i, count + 50, str(count), ha='center', fontsize=12)\n",
        "\n",
        "plt.show()"
      ],
      "metadata": {
        "id": "L1B1obC91zgg"
      },
      "execution_count": null,
      "outputs": []
    },
    {
      "cell_type": "code",
      "source": [
        "hombres = df_final[df_final['gender'] == 'Male']['Churn'].value_counts()\n",
        "mujeres = df_final[df_final['gender'] == 'Female']['Churn'].value_counts()"
      ],
      "metadata": {
        "id": "uyOmHykK4mNw"
      },
      "execution_count": null,
      "outputs": []
    },
    {
      "cell_type": "code",
      "source": [
        "sns.set(style=\"whitegrid\")\n",
        "fig, (ax1, ax2) = plt.subplots(1, 2, figsize=(10, 5))\n",
        "plt.suptitle('Distribución de Churn por Genero', fontsize=16)\n",
        "\n",
        "def plot_churn(data, ax, title):\n",
        "    sns.barplot(\n",
        "        x=data.index,\n",
        "        y=data.values,\n",
        "        hue=data.index,\n",
        "        palette=[\"skyblue\", \"salmon\"],\n",
        "        legend=False,\n",
        "        ax=ax\n",
        "    )\n",
        "    ax.set_title(title)\n",
        "    ax.set_xlabel('')\n",
        "    ax.set_xticks([0,1])\n",
        "    ax.set_xticklabels(['Permanecieron (0)', 'Abandonaron (1)'])\n",
        "    ax.set_ylim(0, 3000)\n",
        "    for i, count in enumerate(data.values):\n",
        "        ax.text(i, count+20, str(count), ha='center')\n",
        "\n",
        "plot_churn(hombres, ax1, 'Hombres')\n",
        "plot_churn(mujeres, ax2, 'Mujeres')\n",
        "\n",
        "plt.tight_layout()\n",
        "plt.show()"
      ],
      "metadata": {
        "id": "Vn6EdecT8I21"
      },
      "execution_count": null,
      "outputs": []
    },
    {
      "cell_type": "code",
      "source": [
        "no_senior = df_final[df_final['SeniorCitizen'] == 0]['Churn'].value_counts()\n",
        "senior = df_final[df_final['SeniorCitizen'] == 1]['Churn'].value_counts()"
      ],
      "metadata": {
        "id": "BtmqNeAy8ou1"
      },
      "execution_count": null,
      "outputs": []
    },
    {
      "cell_type": "code",
      "source": [
        "sns.set(style=\"whitegrid\")\n",
        "fig, axs = plt.subplots(1, 2, figsize=(10, 5))\n",
        "plt.suptitle('Distribución de Churn por Edad', fontsize=16, y=1.02)\n",
        "\n",
        "def plot_churn(data, ax, title):\n",
        "    sns.barplot(\n",
        "        x=data.index,\n",
        "        y=data.values,\n",
        "        hue=data.index,\n",
        "        palette=[\"skyblue\", \"salmon\"],\n",
        "        legend=False,\n",
        "        ax=ax\n",
        "    )\n",
        "    ax.set_title(title)\n",
        "    ax.set_xlabel('')\n",
        "    ax.set_xticks([0,1])\n",
        "    ax.set_xticklabels(['Permanecieron (0)', 'Abandonaron (1)'])\n",
        "    ax.set_ylim(0, 5000)\n",
        "    for i, count in enumerate(data.values):\n",
        "        ax.text(i, count+20, str(count), ha='center')\n",
        "\n",
        "plot_churn(no_senior, axs[0], 'No Senior (Edad < 65)')\n",
        "plot_churn(senior, axs[1], 'Senior (Edad ≥ 65)')\n",
        "\n",
        "plt.tight_layout()\n",
        "plt.show()"
      ],
      "metadata": {
        "id": "DN7-tjfB-QGW"
      },
      "execution_count": null,
      "outputs": []
    },
    {
      "cell_type": "code",
      "source": [
        "df_final['Contract'].unique()"
      ],
      "metadata": {
        "id": "XDHiE1Nfkw8F"
      },
      "execution_count": null,
      "outputs": []
    },
    {
      "cell_type": "code",
      "source": [
        "anio = df_final[df_final['Contract'] == 'One year']['Churn'].value_counts()\n",
        "mes = df_final[df_final['Contract'] == 'Month-to-month']['Churn'].value_counts()\n",
        "anios2= df_final[df_final['Contract'] == 'Two year']['Churn'].value_counts()"
      ],
      "metadata": {
        "id": "CyRlW1TjDyBP"
      },
      "execution_count": null,
      "outputs": []
    },
    {
      "cell_type": "code",
      "source": [
        "sns.set(style=\"whitegrid\")\n",
        "fig, axs = plt.subplots(1, 3, figsize=(12, 5))\n",
        "plt.suptitle('Distribución de Churn por Tipo de contrato', fontsize=16, y=1.02)\n",
        "\n",
        "def plot_churn(data, ax, title):\n",
        "    sns.barplot(\n",
        "        x=data.index,\n",
        "        y=data.values,\n",
        "        hue=data.index,\n",
        "        palette=[\"skyblue\", \"salmon\"],\n",
        "        legend=False,\n",
        "        ax=ax\n",
        "    )\n",
        "    ax.set_title(title)\n",
        "    ax.set_xlabel('')\n",
        "    ax.set_xticks([0,1])\n",
        "    ax.set_xticklabels(['Permanecieron (0)', 'Abandonaron (1)'])\n",
        "    ax.set_ylim(0, 2500)\n",
        "    for i, count in enumerate(data.values):\n",
        "        ax.text(i, count+20, str(count), ha='center')\n",
        "\n",
        "plot_churn(mes, axs[0], 'Por mes')\n",
        "plot_churn(anio, axs[1], 'Por año')\n",
        "plot_churn(anios2, axs[2], 'Por dos años')\n",
        "\n",
        "plt.tight_layout()\n",
        "plt.show()"
      ],
      "metadata": {
        "id": "NIg0JLdilG7m"
      },
      "execution_count": null,
      "outputs": []
    },
    {
      "cell_type": "code",
      "source": [
        "df_final['PaymentMethod'].unique()"
      ],
      "metadata": {
        "id": "FzhYDHrsltpv"
      },
      "execution_count": null,
      "outputs": []
    },
    {
      "cell_type": "code",
      "source": [
        "check = df_final[df_final['PaymentMethod'] == 'Mailed check']['Churn'].value_counts()\n",
        "Electronic  = df_final[df_final['PaymentMethod'] == 'Electronic check']['Churn'].value_counts()\n",
        "Credit = df_final[df_final['PaymentMethod'] == 'Credit card (automatic)']['Churn'].value_counts()\n",
        "Bank = df_final[df_final['PaymentMethod'] == 'Bank transfer (automatic)']['Churn'].value_counts()"
      ],
      "metadata": {
        "id": "EwkyDsGSl3Bc"
      },
      "execution_count": null,
      "outputs": []
    },
    {
      "cell_type": "code",
      "source": [
        "sns.set(style=\"whitegrid\")\n",
        "fig, axs = plt.subplots(2, 2, figsize=(12, 5))\n",
        "plt.suptitle('Distribución de Churn por Método de pago', fontsize=16, y=1.02)\n",
        "\n",
        "def plot_churn(data, ax, title):\n",
        "    sns.barplot(\n",
        "        x=data.index,\n",
        "        y=data.values,\n",
        "        hue=data.index,\n",
        "        palette=[\"skyblue\", \"salmon\"],\n",
        "        legend=False,\n",
        "        ax=ax\n",
        "    )\n",
        "    ax.set_title(title)\n",
        "    ax.set_xlabel('')\n",
        "    ax.set_xticks([0,1])\n",
        "    ax.set_xticklabels(['Permanecieron (0)', 'Abandonaron (1)'])\n",
        "    ax.set_ylim(0, 1500)\n",
        "    for i, count in enumerate(data.values):\n",
        "        ax.text(i, count+20, str(count), ha='center')\n",
        "\n",
        "plot_churn(check, axs[0][1], 'Mailed check')\n",
        "plot_churn(Electronic, axs[1][0], 'Electronic check')\n",
        "plot_churn(Credit, axs[0][0], 'Credit card (automatic)')\n",
        "plot_churn(Bank, axs[1][1], 'Bank transfer (automatic)')\n",
        "\n",
        "\n",
        "plt.tight_layout()\n",
        "plt.show()"
      ],
      "metadata": {
        "id": "TICauJpnlxE8"
      },
      "execution_count": null,
      "outputs": []
    },
    {
      "cell_type": "code",
      "source": [
        "TotalGastado1 = df_final[df_final['Churn'] == 1]['Charges.Total']\n",
        "TotalGastado0 = df_final[df_final['Churn'] == 0]['Charges.Total']\n",
        "tiempoDeContrato0 = df_final[df_final['Churn'] == 0]['tenure']\n",
        "tiempoDeContrato1 = df_final[df_final['Churn'] == 1]['tenure']"
      ],
      "metadata": {
        "id": "wti088qqp9wr"
      },
      "execution_count": null,
      "outputs": []
    },
    {
      "cell_type": "code",
      "source": [
        "print(\"--- Total Gastado (Churn = 1) ---\")\n",
        "print(TotalGastado1.describe())\n",
        "print(\"\\n--- Total Gastado (Churn = 0) ---\")\n",
        "print(TotalGastado0.describe())\n",
        "\n",
        "print(\"\\n--- Tiempo de Contrato (Churn = 1) ---\")\n",
        "print(tiempoDeContrato1.describe())\n",
        "print(\"\\n--- Tiempo de Contrato (Churn = 0) ---\")\n",
        "print(tiempoDeContrato0.describe())"
      ],
      "metadata": {
        "id": "PQaRbOX_qkWh"
      },
      "execution_count": null,
      "outputs": []
    },
    {
      "cell_type": "code",
      "source": [
        "plt.figure(figsize=(14, 6))\n",
        "\n",
        "plt.subplot(1, 2, 1)\n",
        "sns.histplot(TotalGastado0, color='skyblue', label='No Churn', kde=True)\n",
        "sns.histplot(TotalGastado1, color='salmon', label='Churn', kde=True)\n",
        "plt.title('Distribución de Total Gastado por Estado de Churn')\n",
        "plt.xlabel('Total Gastado')\n",
        "plt.ylabel('Frecuencia')\n",
        "plt.legend()\n",
        "\n",
        "plt.subplot(1, 2, 2)\n",
        "sns.histplot(tiempoDeContrato0, color='skyblue', label='No Churn', kde=True)\n",
        "sns.histplot(tiempoDeContrato1, color='salmon', label='Churn', kde=True)\n",
        "plt.title('Distribución de Tiempo de Contrato por Estado de Churn')\n",
        "plt.xlabel('Tiempo de Contrato (Meses)')\n",
        "plt.ylabel('Frecuencia')\n",
        "plt.legend()\n",
        "\n",
        "plt.show()"
      ],
      "metadata": {
        "id": "7Wib8kmZqy7a"
      },
      "execution_count": null,
      "outputs": []
    },
    {
      "cell_type": "code",
      "source": [
        "plt.figure(figsize=(12, 5))\n",
        "\n",
        "plt.subplot(1, 2, 1)\n",
        "sns.boxplot(x='Churn', y='Charges.Total', data=df_final, palette={'0': 'skyblue', '1': 'salmon'})\n",
        "plt.title('Box Plot de Total Gastado por Estado de Churn')\n",
        "plt.xlabel('Churn (0: No, 1: Sí)')\n",
        "plt.ylabel('Total Gastado')\n",
        "\n",
        "plt.subplot(1, 2, 2)\n",
        "sns.boxplot(x='Churn', y='tenure', data=df_final, palette={'0': 'skyblue', '1': 'salmon'})\n",
        "plt.title('Box Plot de Tiempo de Contrato por Estado de Churn')\n",
        "plt.xlabel('Churn (0: No, 1: Sí)')\n",
        "plt.ylabel('Tiempo de Contrato (Meses)')\n",
        "\n",
        "plt.tight_layout()\n",
        "plt.show()"
      ],
      "metadata": {
        "id": "qbYFitgdq85x"
      },
      "execution_count": null,
      "outputs": []
    },
    {
      "cell_type": "markdown",
      "source": [
        "## Informe final"
      ],
      "metadata": {
        "id": "ZJaJ5CGQtB9u"
      }
    },
    {
      "cell_type": "markdown",
      "source": [
        "### **Informe de Análisis de Churn de Clientes - Telecom X**\n",
        "\n",
        "\n",
        "🔹 **Introducción**\n",
        "\n",
        "En mi rol como asistente de análisis de datos en Telecom X, me he propuesto entender a profundidad un problema que hoy preocupa bastante a la empresa: la evasión de clientes.\n",
        "Actualmente, muchas personas están cancelando sus servicios, y eso no solo afecta los ingresos, sino también las posibilidades de crecimiento de la compañía.\n",
        "\n",
        "Para poder enfrentar este reto, necesitamos ir más allá de las cifras y descubrir qué hay detrás de la decisión de los clientes de marcharse.\n",
        "Este informe mostrará el camino que seguimos, desde la recolección de los datos hasta la identificación de hallazgos que realmente puedan traducirse en acciones concretas.\n",
        "\n",
        "La idea es que estos resultados se conviertan en la base para que el equipo de Data Science pueda construir modelos predictivos más precisos y, con ello, ayudar a que la empresa diseñe estrategias efectivas para disminuir la tasa de abandono.\n",
        "\n",
        "🔹 **Limpieza y Tratamiento de Datos**\n",
        "\n",
        "La preparación de los datos fue un paso clave para garantizar que la información realmente tuviera calidad y pudiera ser útil en el análisis. Al inicio, se trabajó con un archivo en formato JSON, el cual necesitaba ser normalizado. Gracias a este proceso, fue posible dividir su contenido en cinco DataFrames, lo que permitió revisar cada uno de ellos de manera más detallada y enfocada.\n",
        "\n",
        "Los pasos de limpieza y transformación incluyeron:\n",
        "\n",
        "\n",
        "* **Normalización de Valores Categóricos**: En varios de los DataFrames fue necesario transformar las respuestas binarias de \"Yes\" y \"No\" a valores numéricos, asignándoles 1 y 0 respectivamente. Esta conversión no solo simplifica el análisis cuantitativo, sino que también prepara los datos para ser utilizados en modelos predictivos de manera más eficiente.\n",
        "\n",
        "\n",
        "* **Manejo de Valores Faltantes y Conversión de Tipo en 'Charges.Total'**: El DataFrame de cuentas presentó un reto especial con la columna Charges.Total. Aunque no había valores nulos explícitos (NaN), sí se encontraron cadenas vacías que bloqueaban la posibilidad de hacer operaciones numéricas. Para resolverlo, esas cadenas vacías se reemplazaron por 0 y luego la columna se convirtió a un tipo de dato numérico, lo que permitió trabajar con ella sin problemas en los cálculos posteriores.\n",
        "\n",
        "* **Creación de Nuevas Variables**: Se creó una nueva columna llamada cuentas_diarias, calculada a partir de la columna cargos_mensuales. Para ello, se dividió el valor mensual entre el promedio de días de un mes (≈30.44 días) y luego se redondeó el resultado a dos decimales. Esta métrica permite tener una visión más clara del gasto diario de cada cliente.\n",
        "\n",
        "* **Consolidación de Datos**: Finalmente, todos los DataFrames tratados y transformados fueron unidos en un único DataFrame consolidado (df_final). Esta unificación es crucial para un análisis holístico y para evitar interacciones y uniones complejas en etapas posteriores del análisis.\n",
        "\n",
        "🔹 **Análisis Exploratorio de Datos (EDA)**\n",
        "\n",
        "El análisis exploratorio nos permitió identificar patrones y tendencias significativas en los datos, proporcionando una comprensión profunda de los factores asociados al churn.\n",
        "\n",
        "1. **Visión General del Churn:**\n",
        "\n",
        "Nuestro estudio inicial reveló que, de la base total de clientes, 5398 personas permanecieron con la empresa, mientras que 1869 clientes decidieron cancelar sus servicios (churn). Esta proporción de abandono es significativa y justifica una investigación más profunda sobre los factores que lo influyen.\n",
        "\n",
        "2. **Factores Categóricos y su Relación con el Churn:**\n",
        "\n",
        "**Género**:\n",
        "\n",
        "Se observó que las mujeres presentan un número absoluto de abandonos mayor que los hombres, con una diferencia de aproximadamente 9 puntos porcentuales. Aunque esta es una tendencia, su impacto relativo podría ser menor comparado con otros factores.\n",
        "\n",
        "**Seniority**:\n",
        "\n",
        "No Senior: Este segmento tiene un mayor riesgo de abandono, a pesar de que también representa una mayor cantidad de clientes que permanecen en general.\n",
        "Senior: Un número considerable de clientes seniors (706) permanecieron, mientras que 476 abandonaron.\n",
        "\n",
        "**Contrato**\n",
        "\n",
        "El contrato a dos años muestra consistentemente el menor riesgo de abandono, lo que sugiere un mayor compromiso y lealtad por parte de estos clientes.\n",
        "En contraste, el contrato mensual (de por mes) presenta el mayor riesgo de abandono. A pesar de este alto riesgo, este tipo de contrato es el más popular, albergando la mayor cantidad de usuarios.\n",
        "\n",
        "**Método de pago**\n",
        "\n",
        "El cheque electrónico aparece como el método de pago con la mayor cantidad de abandonos, alcanzando la cifra de 1.071 clientes. Este hallazgo lo convierte en un foco prioritario para diseñar estrategias de retención.\n",
        "\n",
        "En contraste, los clientes que pagan con tarjeta de crédito (crédito bancario) muestran el menor riesgo de abandono, lo que sugiere que este grupo mantiene una relación más estable con la compañía.\n",
        "\n",
        "3. **Análisis de Variables Numéricas: Total Gastado y Tiempo de Contrato (Tenure)**:\n",
        "\n",
        "Para entender mejor la distribución de estas variables entre los grupos de churn y no churn, utilizamos estadísticas descriptivas y visualizaciones (histogramas y box plots).\n",
        "\n",
        "**Total Gastado (Charges.Total):**\n",
        "\n",
        "Estadísticas Descriptivas:\n",
        "\n",
        "--- Total Gastado (Churn = 1) ---\n",
        "count    1869.000000\n",
        "\n",
        "mean     1531.796094\n",
        "\n",
        "std      1890.822994\n",
        "\n",
        "min        18.850000\n",
        "\n",
        "25%       134.500000\n",
        "\n",
        "50%       703.550000\n",
        "\n",
        "75%      2331.300000\n",
        "\n",
        "max      8684.800000\n",
        "\n",
        "\n",
        "--- Total Gastado (Churn = 0) ---\n",
        "count    5398.000000\n",
        "\n",
        "mean     2535.263977\n",
        "\n",
        "std      2330.802193\n",
        "\n",
        "min         0.000000\n",
        "\n",
        "25%       564.362500\n",
        "\n",
        "50%      1663.625000\n",
        "\n",
        "75%      4237.275000\n",
        "\n",
        "max      8672.450000\n",
        "\n",
        "**Observaciones:** Los clientes que cancelaron (Churn = 1) tienen un gasto total promedio significativamente más bajo (1531.80) y una mediana mucho menor (703.55), en comparación con los clientes que no cancelaron (promedio de $2535.26 y mediana de 1663.63). El 75% de los clientes que abandonaron gastó menos de 2331.30, un valor que es incluso inferior al 75% del gasto de los clientes que permanecieron.\n",
        "\n",
        "**Visualización (Histograma):**\n",
        "\n",
        "El histograma muestra una clara concentración de clientes que cancelan en los rangos de menor gasto, con una curva de densidad (\"kde\") que alcanza su pico en valores muy bajos. Los clientes que no cancelan tienen una distribución más extendida y con picos hacia valores de gasto más altos.\n",
        "![descargar (1).png](data:image/png;base64,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)\n",
        "**Visualización (Box Plot):**\n",
        "\n",
        "El box plot refuerza que la caja (que representa el 50% central de los datos) y la mediana para los clientes que cancelan están ubicadas en un rango de valores mucho más bajo que para los que no cancelan. Hay una presencia notable de outliers de alto gasto en el grupo de churn, pero la mayoría se concentra en el rango inferior.\n",
        "\n",
        "**Tiempo de Contrato (Tenure):**\n",
        "\n",
        "Estadísticas Descriptivas:\n",
        "\n",
        "--- Tiempo de Contrato (Churn = 1) ---\n",
        "count    1869.000000\n",
        "\n",
        "mean       17.979133\n",
        "\n",
        "std        19.531123\n",
        "\n",
        "min         1.000000\n",
        "\n",
        "25%         2.000000\n",
        "\n",
        "50%        10.000000\n",
        "\n",
        "75%        29.000000\n",
        "\n",
        "max        72.000000\n",
        "\n",
        "Name: tenure, dtype: float64\n",
        "\n",
        "--- Tiempo de Contrato (Churn = 0) ---\n",
        "\n",
        "count    5398.000000\n",
        "\n",
        "mean       37.321045\n",
        "\n",
        "std        24.178367\n",
        "\n",
        "min         0.000000\n",
        "\n",
        "25%        14.000000\n",
        "\n",
        "50%        37.000000\n",
        "\n",
        "75%        61.000000\n",
        "\n",
        "max        72.000000\n",
        "\n",
        "Name: tenure, dtype: float64\n",
        "\n",
        "Observaciones: Los clientes que cancelaron presentan un tiempo de contrato promedio mucho más corto (17.98 meses) y una mediana de solo 10 meses, mientras que los que no cancelaron tienen un promedio de 37.32 meses y una mediana de 37 meses. El 75% de los clientes que hicieron churn lo hicieron antes de los 29 meses, lo cual está muy por debajo de la mediana (50%) de los clientes que no abandonaron.\n",
        "\n",
        "**Visualización (Histograma):**\n",
        "\n",
        "El histograma para el tiempo de contrato muestra una marcada concentración de churn en los primeros meses, con un pico pronunciado en el inicio de la distribución para los clientes que cancelan. Los clientes que permanecen tienen una distribución más uniforme, con un aumento en la frecuencia hacia los contratos más largos.\n",
        "\n",
        "**Visualización (Box Plot):**\n",
        "\n",
        "El box plot de tenure destaca que la mediana del tiempo de contrato para los clientes que cancelan es extremadamente baja, y su caja completa se encuentra dentro del primer cuartil de los clientes que no cancelan. Esto subraya que la mayoría de los clientes que abandonan lo hacen muy temprano en su relación con la empresa.\n",
        "\n",
        "![descargar.png](data:image/png;base64,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)\n",
        "\n",
        "🔹 **Conclusiones e Insights**\n",
        "\n",
        "Nuestro análisis exploratorio ha revelado un perfil claro del cliente propenso al churn y los factores que lo impulsan:\n",
        "\n",
        "1.  **Clientes de Alto Riesgo:** Los clientes con mayor riesgo de abandono suelen ser aquellos con contratos mensuales, que utilizan cheques electrónicos como método de pago, que son no seniors, y, crucialmente, aquellos que han tenido un tiempo de contrato más corto y un gasto total acumulado más bajo.\n",
        "\n",
        "2.  **Importancia de los Primeros Meses:** El tiempo de contrato es un indicador crítico. Una gran proporción de clientes que cancelan lo hacen en los primeros 10-20 meses, lo que sugiere que la experiencia inicial del cliente es fundamental.\n",
        "\n",
        "3.  **Valor del Cliente y Churn:** Los clientes que generan un menor gasto total son significativamente más propensos a abandonar. Esto implica que la inversión o el valor percibido del servicio puede ser bajo para ellos.\n",
        "\n",
        "4.  **Métodos de Pago y Lealtad:** El método de pago no solo es una preferencia, sino un indicador de riesgo. Los usuarios de cheque electrónico muestran una preocupante tasa de churn, a diferencia de los usuarios de tarjeta de crédito, que parecen más estables.\n",
        "\n",
        "5.  **Contratos a Largo Plazo como Ancla:** Los contratos de dos años actúan como un fuerte ancla, reduciendo drásticamente la probabilidad de churn, lo que valida la importancia de incentivar la permanencia a largo plazo.\n",
        "\n",
        "Estos hallazgos proporcionan una base sólida para que el equipo de Data Science pueda avanzar en la creación de modelos predictivos de churn y, a la empresa, en el desarrollo de estrategias de retención más dirigidas y efectivas.\n",
        "\n",
        "🔹 **Recomendaciones**\n",
        "\n",
        "Basado en el análisis de datos, se proponen las siguientes recomendaciones estratégicas para Telecom X con el fin de reducir la tasa de evasión de clientes:\n",
        "\n",
        "**Foco en la Experiencia del Cliente Nuevo (Primeros Meses):**\n",
        "\n",
        "Estrategia: Implementar un programa de \"Onboarding\" proactivo y robusto para los clientes nuevos, especialmente en los primeros 3 a 6 meses.\n",
        "\n",
        "Acciones:Seguimiento personalizado (llamadas, emails) para asegurar que el cliente esté satisfecho con el servicio y resolver cualquier duda o problema rápidamente.\n",
        "\n",
        "Ofrecer tutoriales o guías de uso del servicio.\n",
        "Promociones o beneficios exclusivos para los primeros meses que incentiven el uso y la permanencia.\n",
        "\n",
        "**Incentivar Contratos a Largo Plazo:**\n",
        "\n",
        "Estrategia: Reducir la proporción de clientes con contratos mensuales y migrar a contratos de mayor duración.\n",
        "\n",
        "Acciones: Ofrecer descuentos significativos o beneficios adicionales (ej. mayor velocidad, servicios premium) a los clientes que opten por contratos de 1 o 2 años.\n",
        "\n",
        "Comunicar claramente los beneficios económicos y de servicio de los contratos a largo plazo.\n",
        "\n",
        "**Análisis y Gestión del Método de Pago (Cheque Electrónico):**\n",
        "\n",
        "Estrategia: Investigar las razones detrás del alto churn asociado al cheque electrónico y promover métodos de pago más estables.\n",
        "\n",
        "Acciones: Realizar encuestas o análisis cualitativos con clientes que usen cheque electrónico para entender puntos de fricción o insatisfacción.\n",
        "\n",
        "Ofrecer incentivos para cambiar a domiciliación bancaria o tarjeta de crédito (ej. pequeños descuentos, bonificaciones).\n",
        "\n",
        "Mejorar la experiencia de pago o comunicación para usuarios de cheque electrónico.\n",
        "\n",
        "**Programas de Retención para Clientes de Bajo Gasto y No Seniors:**\n",
        "\n",
        "Estrategia: Diseñar ofertas y comunicaciones específicas para clientes que muestran bajo gasto o que pertenecen al segmento \"no senior\".\n",
        "\n",
        "Acciones: Identificar proactivamente a los clientes con bajo gasto y ofrecerles paquetes de servicios más adecuados a sus necesidades o promociones para aumentar su valor.\n",
        "\n",
        "Desarrollar campañas de marketing dirigidas a clientes no seniors, destacando beneficios relevantes para su perfil.\n",
        "\n",
        "**Desarrollo de Modelos Predictivos:**\n",
        "\n",
        "Estrategia: Utilizar los insights extraídos para construir y refinar modelos de aprendizaje automático capaces de predecir la probabilidad de churn.\n",
        "\n",
        "Acciones: Integrar las variables Total Gastado y Tiempo de Contrato, junto con el tipo de contrato y método de pago, como características clave en los modelos.\n",
        "\n",
        "Establecer umbrales de riesgo para identificar clientes con alta probabilidad de churn antes de que ocurra.\n"
      ],
      "metadata": {
        "id": "jhZecHLRtEgy"
      }
    },
    {
      "cell_type": "code",
      "source": [],
      "metadata": {
        "id": "LtqJDFOGss3F"
      },
      "execution_count": null,
      "outputs": []
    }
  ]
}